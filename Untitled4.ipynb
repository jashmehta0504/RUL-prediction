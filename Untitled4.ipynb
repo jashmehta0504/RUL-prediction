{
 "cells": [
  {
   "cell_type": "code",
   "execution_count": 6,
   "id": "3fbba9e6-a752-4833-9d45-dcc1e8d38f0d",
   "metadata": {},
   "outputs": [
    {
     "name": "stdout",
     "output_type": "stream",
     "text": [
      "Beta: -0.02050545504597534, a: 0.8302283856395205, n: -14.987359922956854\n"
     ]
    },
    {
     "name": "stderr",
     "output_type": "stream",
     "text": [
      "C:\\Users\\JASH\\AppData\\Local\\Temp\\ipykernel_4344\\1646726160.py:16: RuntimeWarning: invalid value encountered in log\n",
      "  term2 = np.sum(ni * np.log(a * (Si**n) * ti))\n",
      "C:\\Users\\JASH\\AppData\\Local\\Temp\\ipykernel_4344\\1646726160.py:17: RuntimeWarning: invalid value encountered in power\n",
      "  term3 = np.sum(ni * ((a * (Si**n) * ti)**beta) * np.log(a * (Si**n) * ti))\n",
      "C:\\Users\\JASH\\AppData\\Local\\Temp\\ipykernel_4344\\1646726160.py:17: RuntimeWarning: invalid value encountered in log\n",
      "  term3 = np.sum(ni * ((a * (Si**n) * ti)**beta) * np.log(a * (Si**n) * ti))\n",
      "C:\\Users\\JASH\\AppData\\Local\\Temp\\ipykernel_4344\\1646726160.py:22: RuntimeWarning: invalid value encountered in power\n",
      "  term5 = (beta / a) * np.sum(ni * (a * (Si**n) * ti)**beta)\n",
      "C:\\Users\\JASH\\AppData\\Local\\Temp\\ipykernel_4344\\1646726160.py:27: RuntimeWarning: invalid value encountered in power\n",
      "  term7 = beta * np.sum(ni * np.log(Si) * (a * Si**n * ti)**beta)\n",
      "C:\\Users\\JASH\\AppData\\Local\\Temp\\ipykernel_4344\\1646726160.py:36: RuntimeWarning: The iteration is not making good progress, as measured by the \n",
      "  improvement from the last five Jacobian evaluations.\n",
      "  solution = fsolve(equations, initial_guess)\n"
     ]
    }
   ],
   "source": [
    "import numpy as np\n",
    "from scipy.optimize import fsolve\n",
    "\n",
    "# Given data\n",
    "Si = np.array([2, 3, 4, 5, 6, 7])  # S_i values\n",
    "ni = np.array([1, 2, 3, 4, 5, 6])  # n_i values\n",
    "ti = np.array([250, 100, 20, 10, 10, 10])  # t_i values\n",
    "Nc = Nr = 6  # Given Nc = Nr\n",
    "\n",
    "# Define the system of equations\n",
    "def equations(vars):\n",
    "    beta, a, n = vars\n",
    "    \n",
    "    # Equation 1 (Partial derivative w.r.t beta)\n",
    "    term1 = np.sum(ni) / beta\n",
    "    term2 = np.sum(ni * np.log(a * (Si**n) * ti))\n",
    "    term3 = np.sum(ni * ((a * (Si**n) * ti)**beta) * np.log(a * (Si**n) * ti))\n",
    "    eq1 = term1 + term2 - 2 * term3  # term3 appears twice for Nc and Nr\n",
    "\n",
    "    # Equation 2 (Partial derivative w.r.t a)\n",
    "    term4 = (beta / a) * np.sum(ni)\n",
    "    term5 = (beta / a) * np.sum(ni * (a * (Si**n) * ti)**beta)\n",
    "    eq2 = term4 - 2 * term5  # term5 appears twice for Nc and Nr\n",
    "\n",
    "    # Equation 3 (Partial derivative w.r.t n)\n",
    "    term6 = beta * np.sum(ni * np.log(Si))\n",
    "    term7 = beta * np.sum(ni * np.log(Si) * (a * Si**n * ti)**beta)\n",
    "    eq3 = term6 - 2 * term7  # term7 appears twice for Nc and Nr\n",
    "\n",
    "    return [eq1, eq2, eq3]\n",
    "\n",
    "# Initial guesses for beta, a, and n\n",
    "initial_guess = [1.0, 1.0, 1.0]\n",
    "\n",
    "# Solve the system of equations\n",
    "solution = fsolve(equations, initial_guess)\n",
    "\n",
    "# Extract the values\n",
    "beta_sol, a_sol, n_sol = solution\n",
    "print(f\"Beta: {beta_sol}, a: {a_sol}, n: {n_sol}\")\n"
   ]
  },
  {
   "cell_type": "code",
   "execution_count": null,
   "id": "8bde637a-afd5-476a-8601-e37f3d00d0be",
   "metadata": {},
   "outputs": [],
   "source": []
  }
 ],
 "metadata": {
  "kernelspec": {
   "display_name": "Python 3 (ipykernel)",
   "language": "python",
   "name": "python3"
  },
  "language_info": {
   "codemirror_mode": {
    "name": "ipython",
    "version": 3
   },
   "file_extension": ".py",
   "mimetype": "text/x-python",
   "name": "python",
   "nbconvert_exporter": "python",
   "pygments_lexer": "ipython3",
   "version": "3.11.11"
  }
 },
 "nbformat": 4,
 "nbformat_minor": 5
}
