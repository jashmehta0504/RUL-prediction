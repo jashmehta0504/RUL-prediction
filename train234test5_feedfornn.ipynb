{
 "cells": [
  {
   "cell_type": "code",
   "execution_count": 1,
   "id": "cfcad6a4-d421-4867-915c-b6ef7bf800cf",
   "metadata": {},
   "outputs": [
    {
     "name": "stdout",
     "output_type": "stream",
     "text": [
      "Done\n"
     ]
    }
   ],
   "source": [
    "import scipy.io\n",
    "import matplotlib.pyplot as plt\n",
    "import numpy as np\n",
    "\n",
    "mat_data_set = [()]\n",
    "# Load MATLAB file\n",
    "mat_file = r'C:\\Device5_ 1.mat' \n",
    "mat_data = scipy.io.loadmat(mat_file)\n",
    "mat_data_set = np.append(mat_data_set, mat_data)\n",
    "\n",
    "mat_file = r'C:\\Device2  1.mat' \n",
    "mat_data = scipy.io.loadmat(mat_file)\n",
    "mat_data_set = np.append(mat_data_set, mat_data)\n",
    "\n",
    "mat_file = r'C:\\Device3  1.mat' \n",
    "mat_data = scipy.io.loadmat(mat_file)\n",
    "mat_data_set = np.append(mat_data_set, mat_data)\n",
    "\n",
    "mat_file = r'C:\\Device4  1.mat' \n",
    "mat_data = scipy.io.loadmat(mat_file)\n",
    "mat_data_set = np.append(mat_data_set, mat_data)\n",
    "\n",
    "#j=0 dev5\n",
    "#j=1 dev2\n",
    "#j=2 dev3\n",
    "#j=3 dev4\n",
    "\n",
    "ce_window_smooth = [None] * len(mat_data_set)\n",
    "\n",
    "for j in range(len(mat_data_set)):\n",
    "    measurement = mat_data_set[j]['measurement']\n",
    "    transient = measurement['transient']\n",
    "    \n",
    "    total_time = 0\n",
    "    new_time = 0\n",
    "    original = 0 \n",
    "    time = np.array([])\n",
    "    ce_data_list = []\n",
    "    \n",
    "    for i in range(len(transient[0,0][0])):\n",
    "        date_str = transient[0,0][0][i][0][0]\n",
    "        time_str = date_str.split(' ')[1]\n",
    "        hour, minute, second = map(int, time_str.split(':'))\n",
    "        \n",
    "        new_time = hour*3600 + minute*60 + second\n",
    "        if i == 0:\n",
    "            original = new_time\n",
    "        total_time = new_time - original\n",
    "    \n",
    "        time = np.append(time, total_time)\n",
    "        \n",
    "        ce_data = transient[0,0][0][i][2][0][0][3][0]\n",
    "        ce_data_list.append(ce_data)\n",
    "    \n",
    "    ce_data_array = np.array(ce_data_list) \n",
    "    \n",
    "    ce_sampling_data = [()]\n",
    "    for i in range(len(ce_data_array)):\n",
    "        if time[i]>=2000 and np.min(ce_data_array[i])<=4.0:\n",
    "            break\n",
    "        ce_sampling_data = np.append(ce_sampling_data, np.average(ce_data_array[i]))\n",
    "    \n",
    "    def calculate_weighted_average(x, t, span=15):\n",
    "        theta = 2 / (span + 1)\n",
    "        numerator = 0\n",
    "        denominator = 0\n",
    "    \n",
    "        for i in range(t + 1):\n",
    "            weight = (1 - theta) ** (t - i)\n",
    "            numerator += weight * x[i]\n",
    "            denominator += weight\n",
    "    \n",
    "        yt = numerator / denominator\n",
    "        return yt\n",
    "    \n",
    "    span = 15\n",
    "    ce_window_smooth[j] = np.zeros(len(ce_sampling_data))\n",
    "    for t in range(len(ce_sampling_data)):\n",
    "        ce_window_smooth[j][t] = calculate_weighted_average(ce_sampling_data, t, span)\n",
    "\n",
    "print(\"Done\")"
   ]
  },
  {
   "cell_type": "code",
   "execution_count": 2,
   "id": "4bf77634-6232-4195-99b9-b1524368633b",
   "metadata": {},
   "outputs": [
    {
     "name": "stdout",
     "output_type": "stream",
     "text": [
      "103\n",
      "106\n",
      "96\n",
      "91\n"
     ]
    }
   ],
   "source": [
    "for q in range(len(mat_data_set)):\n",
    "    len_ori = len(ce_window_smooth[q])\n",
    "    print(len_ori)"
   ]
  },
  {
   "cell_type": "code",
   "execution_count": 3,
   "id": "9d637c52-da57-4ceb-9d2b-b80050bd9129",
   "metadata": {},
   "outputs": [],
   "source": [
    "ce_window_smooth_new = [None]*len(mat_data_set)\n",
    "len_larger = len(ce_window_smooth[3])\n",
    "for q in range(len(mat_data_set)):\n",
    "    ce_window_smooth_new[q] = ce_window_smooth[q][0:len_larger]\n",
    "    #print(len(output_array_new[q])-len(ce_window_smooth[q])"
   ]
  },
  {
   "cell_type": "code",
   "execution_count": 4,
   "id": "115d7f8a-a7a4-42bb-8f5f-8b661478ad0e",
   "metadata": {},
   "outputs": [
    {
     "name": "stdout",
     "output_type": "stream",
     "text": [
      "91\n",
      "91\n",
      "91\n",
      "91\n"
     ]
    }
   ],
   "source": [
    "for q in range(len(mat_data_set)):\n",
    "    len_ori = len(ce_window_smooth_new[q])\n",
    "    print(len_ori)"
   ]
  },
  {
   "cell_type": "code",
   "execution_count": 17,
   "id": "7a65ab60-5695-41ec-b001-5b6ee1aeae2a",
   "metadata": {},
   "outputs": [
    {
     "ename": "TypeError",
     "evalue": "list.append() takes exactly one argument (2 given)",
     "output_type": "error",
     "traceback": [
      "\u001b[1;31m---------------------------------------------------------------------------\u001b[0m",
      "\u001b[1;31mTypeError\u001b[0m                                 Traceback (most recent call last)",
      "Cell \u001b[1;32mIn[17], line 61\u001b[0m\n\u001b[0;32m     59\u001b[0m X_test \u001b[38;5;241m=\u001b[39m data[\u001b[38;5;241m0\u001b[39m, col_idx]\u001b[38;5;241m.\u001b[39mview(\u001b[38;5;241m1\u001b[39m, \u001b[38;5;241m1\u001b[39m)  \u001b[38;5;66;03m# Single element as input\u001b[39;00m\n\u001b[0;32m     60\u001b[0m prediction \u001b[38;5;241m=\u001b[39m model(X_test)\n\u001b[1;32m---> 61\u001b[0m output_arr\u001b[38;5;241m.\u001b[39mappend(output_arr, prediction\u001b[38;5;241m.\u001b[39mitem())\n",
      "\u001b[1;31mTypeError\u001b[0m: list.append() takes exactly one argument (2 given)"
     ]
    }
   ],
   "source": [
    "import torch\n",
    "import torch.nn as nn\n",
    "import torch.optim as optim\n",
    "\n",
    "# Define the feedforward neural network\n",
    "class FeedForwardNN(nn.Module):\n",
    "    def __init__(self, input_size, hidden_size, output_size):\n",
    "        super(FeedForwardNN, self).__init__()\n",
    "        self.fc1 = nn.Linear(input_size, hidden_size)  # First layer\n",
    "        self.relu = nn.ReLU()                        # Activation function\n",
    "        self.fc2 = nn.Linear(hidden_size, output_size) # Output layer\n",
    "\n",
    "    def forward(self, x):\n",
    "        x = self.fc1(x)\n",
    "        x = self.relu(x)\n",
    "        x = self.fc2(x)\n",
    "        return x\n",
    "\n",
    "# Data matrix\n",
    "data = torch.tensor(ce_window_smooth_new, dtype=torch.float32)\n",
    "\n",
    "# Hyperparameters\n",
    "input_size = 1  # Train using individual elements\n",
    "hidden_size = 5  # Number of neurons in the hidden layer\n",
    "output_size = 1  # Predict single elements\n",
    "learning_rate = 0.01\n",
    "num_epochs = 100\n",
    "\n",
    "# Initialize the model, loss function, and optimizer\n",
    "model = FeedForwardNN(input_size, hidden_size, output_size)\n",
    "criterion = nn.MSELoss()\n",
    "optimizer = optim.Adam(model.parameters(), lr=learning_rate)\n",
    "\n",
    "for epoch in range(num_epochs):\n",
    "    # Train the model using individual elements from rows 1, 2, and 3\n",
    "    for row_idx in [1, 2, 3]:\n",
    "        for col_idx in range(data.size(1)):  # Iterate through each element in the row\n",
    "            X_train = data[row_idx, col_idx].view(1, 1)  # Single element as input\n",
    "            y_train = X_train.clone()                   # Target is the input itself\n",
    "\n",
    "            # Forward pass\n",
    "            outputs = model(X_train)\n",
    "            loss = criterion(outputs, y_train)\n",
    "    \n",
    "            # Backward pass\n",
    "            optimizer.zero_grad()\n",
    "            loss.backward()\n",
    "            optimizer.step()\n",
    "            \n",
    "\n",
    "        # Print loss every 50 epochs for each element\n",
    "        #if (epoch + 1) % 50 == 0:\n",
    "           # print(f'Row {row_idx}, Element {col_idx}, Epoch [{epoch+1}/{num_epochs}], Loss: {loss.item():.4f}')\n",
    "\n",
    "output_arr =[]\n",
    "# Test the model using individual elements from row 0\n",
    "with torch.no_grad():\n",
    "    for col_idx in range(data.size(1)):\n",
    "        X_test = data[0, col_idx].view(1, 1)  # Single element as input\n",
    "        prediction = model(X_test)\n",
    "        output_arr.append(prediction.item()) \n",
    "        #print(f'Input: {X_test.item()}, Prediction: {prediction.item()}, Target: {X_test.item()}')\n"
   ]
  },
  {
   "cell_type": "code",
   "execution_count": 18,
   "id": "3743db18-e438-431c-8018-796d689b344f",
   "metadata": {},
   "outputs": [],
   "source": [
    "output_arr = []\n",
    "# Test the model using individual elements from row 0\n",
    "with torch.no_grad():\n",
    "    for col_idx in range(data.size(1)):\n",
    "        X_test = data[0, col_idx].view(1, 1)  # Single element as input\n",
    "        prediction = model(X_test)\n",
    "        output_arr.append(prediction.item()) \n",
    "        #print(f'Input: {X_test.item()}, Prediction: {prediction.item()}, Target: {X_test.item()}')"
   ]
  },
  {
   "cell_type": "code",
   "execution_count": 20,
   "id": "9a4d89d1-0777-4bc7-a710-ef96cb7959b9",
   "metadata": {},
   "outputs": [
    {
     "data": {
      "image/png": "[encoded data removed]",
      "text/plain": [
       "<Figure size 640x480 with 1 Axes>"
      ]
     },
     "metadata": {},
     "output_type": "display_data"
    }
   ],
   "source": [
    "# Plot results\n",
    "plt.plot(output_arr, label='Predicted')\n",
    "plt.plot(ce_window_smooth_new[0], label='Actual')\n",
    "plt.legend()\n",
    "plt.show()"
   ]
  },
  {
   "cell_type": "code",
   "execution_count": 21,
   "id": "e489d5c6-0a55-4cec-a9af-404a53bc5b76",
   "metadata": {},
   "outputs": [
    {
     "data": {
      "text/plain": [
       "list"
      ]
     },
     "execution_count": 21,
     "metadata": {},
     "output_type": "execute_result"
    }
   ],
   "source": [
    "type(output_arr)"
   ]
  },
  {
   "cell_type": "code",
   "execution_count": 25,
   "id": "3a78b7c8-6ad2-4835-af85-62eeb13735d8",
   "metadata": {},
   "outputs": [
    {
     "name": "stdout",
     "output_type": "stream",
     "text": [
      "Done\n"
     ]
    }
   ],
   "source": [
    "import numpy as np\n",
    "\n",
    "# Function to calculate MSE\n",
    "def mean_squared_error(y_true, y_pred):\n",
    "    return np.mean((y_true - y_pred) ** 2)\n",
    "\n",
    "# Function to calculate R² (Coefficient of Determination)\n",
    "def r2_score(y_true, y_pred):\n",
    "    ss_res = np.sum((y_true - y_pred) ** 2)  # Residual sum of squares\n",
    "    ss_tot = np.sum((y_true - np.mean(y_true)) ** 2)  # Total sum of squares\n",
    "    return 1 - (ss_res / ss_tot)\n",
    "\n",
    "# Function to calculate MAE\n",
    "def mean_absolute_error(y_true, y_pred):\n",
    "    return np.mean(np.abs(y_true - y_pred))\n",
    "\n",
    "print(\"Done\")"
   ]
  },
  {
   "cell_type": "code",
   "execution_count": 26,
   "id": "2271e296-bd57-4fbc-9856-9d1ab8329863",
   "metadata": {},
   "outputs": [
    {
     "name": "stdout",
     "output_type": "stream",
     "text": [
      "2.7670155675900642e-05\n",
      "99.99814963468809\n",
      "0.004056782814239644\n"
     ]
    }
   ],
   "source": [
    "y_true = ce_window_smooth_new[0]\n",
    "\n",
    "y_pred = output_arr\n",
    "# Calculate MSE\n",
    "mse_cnnlstm = mean_squared_error(y_true, y_pred)\n",
    "\n",
    "# Calculate R²\n",
    "r2_cnnlstm = r2_score(y_true, y_pred)*100\n",
    "\n",
    "# Calculate MAE\n",
    "mae_cnnlstm = mean_absolute_error(y_true, y_pred)\n",
    "\n",
    "print(mse_cnnlstm)\n",
    "print(r2_cnnlstm)\n",
    "print(mae_cnnlstm)"
   ]
  },
  {
   "cell_type": "code",
   "execution_count": null,
   "id": "bd26f1c1-6f43-47eb-8fb5-a38769fc1ff2",
   "metadata": {},
   "outputs": [],
   "source": []
  }
 ],
 "metadata": {
  "kernelspec": {
   "display_name": "Python 3 (ipykernel)",
   "language": "python",
   "name": "python3"
  },
  "language_info": {
   "codemirror_mode": {
    "name": "ipython",
    "version": 3
   },
   "file_extension": ".py",
   "mimetype": "text/x-python",
   "name": "python",
   "nbconvert_exporter": "python",
   "pygments_lexer": "ipython3",
   "version": "3.11.11"
  }
 },
 "nbformat": 4,
 "nbformat_minor": 5
}
