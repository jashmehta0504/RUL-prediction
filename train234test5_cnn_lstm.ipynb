{
 "cells": [
  {
   "cell_type": "code",
   "execution_count": 8,
   "id": "74270cc3-8f16-4e4a-90fd-b07adcec832a",
   "metadata": {},
   "outputs": [],
   "source": [
    "import scipy.io\n",
    "import matplotlib.pyplot as plt\n",
    "import numpy as np\n",
    "\n",
    "# Load MATLAB file\n",
    "mat_file = r'C:\\Device5_ 1.mat' \n",
    "mat_data = scipy.io.loadmat(mat_file)\n",
    "measurement = mat_data['measurement']\n",
    "transient = measurement['transient']\n",
    "\n",
    "ce_data = transient[0,0][0][i][2][0][0][3][0]"
   ]
  },
  {
   "cell_type": "code",
   "execution_count": 26,
   "id": "8c755d35-5e62-4f49-838c-518d05f809d6",
   "metadata": {},
   "outputs": [
    {
     "data": {
      "text/plain": [
       "(array(['12/24/2008 12:13:54 PM.168751239'], dtype='<U32'), array([[3.31299443e+09]]), array([[(array([[8.e-09]]), array([[-0.12499958, -0.13671833, -0.12109333, ..., -0.12109333,\n",
       "                -0.11328083, -0.12499958]]), array([[-0.16015582, -0.17578082, -0.16796832, ..., -0.17578082,\n",
       "                -0.19531207, -0.19140582]]), array([[2.4609375 , 2.47558594, 2.46826172, ..., 2.45605468, 2.45605468,\n",
       "                2.45361328]]), array([[0.14975977, 0.17429942, 0.14157988, ..., 0.16611953, 0.22337872,\n",
       "                0.21519883]]))                                                                                       ]],\n",
       "      dtype=[('dt', 'O'), ('gateSignalVoltage', 'O'), ('gateEmitterVoltage', 'O'), ('collectorEmitterVoltage', 'O'), ('collectorEmitterCurrentSignal', 'O')]), array([[(array([[1]], dtype=uint8), array([], shape=(1, 0), dtype=uint8), array([], shape=(1, 0), dtype=uint8), array([], shape=(1, 0), dtype=uint8), array([], shape=(1, 0), dtype=uint8), array([[1]], dtype=uint8), array([], shape=(1, 0), dtype=uint8), array([], shape=(1, 0), dtype=uint8), array([], shape=(1, 0), dtype=uint8), array([], shape=(1, 0), dtype=uint8))]],\n",
       "      dtype=[('dxAmplitude', 'O'), ('gateSignalAmplitude', 'O'), ('gateEmitterAmplitude', 'O'), ('collectorEmitterAmplitude', 'O'), ('collectorEmitterCurrentAmplitude', 'O'), ('dxPhase', 'O'), ('gateSignalPhase', 'O'), ('gateEmitterPhase', 'O'), ('collectorEmitterPhase', 'O'), ('collectorEmitterCurrentPhase', 'O')]))"
      ]
     },
     "execution_count": 26,
     "metadata": {},
     "output_type": "execute_result"
    }
   ],
   "source": [
    "transient[0,0][0][0]"
   ]
  },
  {
   "cell_type": "code",
   "execution_count": 23,
   "id": "ab21d1c1-a883-49cf-8b46-18d7a619849c",
   "metadata": {},
   "outputs": [
    {
     "data": {
      "text/plain": [
       "(array(['12/24/2008 12:13:53 PM'], dtype='<U22'), array([[3.31299443e+09]]), array([[99]], dtype=uint8), array([[100]], dtype=uint8), array([[115]], dtype=uint8), array([[8]], dtype=uint8), array([[2.5]]), array([[1000]], dtype=uint16), array([[40]], dtype=uint8), array([[0]], dtype=uint8))"
      ]
     },
     "execution_count": 23,
     "metadata": {},
     "output_type": "execute_result"
    }
   ],
   "source": []
  },
  {
   "cell_type": "code",
   "execution_count": 16,
   "id": "ec1f18c0-d0ec-4afa-a540-b9fb9d3c5ee2",
   "metadata": {},
   "outputs": [
    {
     "data": {
      "text/plain": [
       "(array(['12/24/2008 12:14:42 PM.364751338'], dtype='<U32'), array([[3.31299448e+09]]), array([[(array([[1.6e-08]]), array([[-1.30749146, -2.86999155, -1.30749146, ..., -1.30749146,\n",
       "                -2.86999155, -1.30749146]]), array([[4.45249933, 4.13999936, 4.13999936, ..., 4.13999936, 4.45249933,\n",
       "                4.13999936]]), array([[2.21925007, 2.25050007, 2.21925007, ..., 2.25050007, 2.25050007,\n",
       "                2.25050007]]), array([[1.6954949 , 1.48440114, 1.48440114, ..., 1.48440114, 1.48440114,\n",
       "                1.6954949 ]]))                                                                                       ]],\n",
       "      dtype=[('dt', 'O'), ('gateSignalVoltage', 'O'), ('gateEmitterVoltage', 'O'), ('collectorEmitterVoltage', 'O'), ('collectorEmitterCurrentSignal', 'O')]), array([[(array([[1]], dtype=uint8), array([], shape=(1, 0), dtype=uint8), array([], shape=(1, 0), dtype=uint8), array([], shape=(1, 0), dtype=uint8), array([], shape=(1, 0), dtype=uint8), array([[1]], dtype=uint8), array([], shape=(1, 0), dtype=uint8), array([], shape=(1, 0), dtype=uint8), array([], shape=(1, 0), dtype=uint8), array([], shape=(1, 0), dtype=uint8))]],\n",
       "      dtype=[('dxAmplitude', 'O'), ('gateSignalAmplitude', 'O'), ('gateEmitterAmplitude', 'O'), ('collectorEmitterAmplitude', 'O'), ('collectorEmitterCurrentAmplitude', 'O'), ('dxPhase', 'O'), ('gateSignalPhase', 'O'), ('gateEmitterPhase', 'O'), ('collectorEmitterPhase', 'O'), ('collectorEmitterCurrentPhase', 'O')]))"
      ]
     },
     "execution_count": 16,
     "metadata": {},
     "output_type": "execute_result"
    }
   ],
   "source": [
    "ce_data"
   ]
  },
  {
   "cell_type": "code",
   "execution_count": 1,
   "id": "15aa683c-4fb9-4c07-a5c0-cd1949cfb10c",
   "metadata": {},
   "outputs": [
    {
     "name": "stdout",
     "output_type": "stream",
     "text": [
      "Done\n"
     ]
    }
   ],
   "source": [
    "import scipy.io\n",
    "import matplotlib.pyplot as plt\n",
    "import numpy as np\n",
    "\n",
    "mat_data_set = [()]\n",
    "# Load MATLAB file\n",
    "mat_file = r'C:\\Device5_ 1.mat' \n",
    "mat_data = scipy.io.loadmat(mat_file)\n",
    "mat_data_set = np.append(mat_data_set, mat_data)\n",
    "\n",
    "mat_file = r'C:\\Device2  1.mat' \n",
    "mat_data = scipy.io.loadmat(mat_file)\n",
    "mat_data_set = np.append(mat_data_set, mat_data)\n",
    "\n",
    "mat_file = r'C:\\Device3  1.mat' \n",
    "mat_data = scipy.io.loadmat(mat_file)\n",
    "mat_data_set = np.append(mat_data_set, mat_data)\n",
    "\n",
    "mat_file = r'C:\\Device4  1.mat' \n",
    "mat_data = scipy.io.loadmat(mat_file)\n",
    "mat_data_set = np.append(mat_data_set, mat_data)\n",
    "\n",
    "#j=0 dev5\n",
    "#j=1 dev2\n",
    "#j=2 dev3\n",
    "#j=3 dev4\n",
    "\n",
    "ce_window_smooth = [None] * len(mat_data_set)\n",
    "\n",
    "for j in range(len(mat_data_set)):\n",
    "    measurement = mat_data_set[j]['measurement']\n",
    "    transient = measurement['transient']\n",
    "    \n",
    "    total_time = 0\n",
    "    new_time = 0\n",
    "    original = 0 \n",
    "    time = np.array([])\n",
    "    ce_data_list = []\n",
    "    \n",
    "    for i in range(len(transient[0,0][0])):\n",
    "        date_str = transient[0,0][0][i][0][0]\n",
    "        time_str = date_str.split(' ')[1]\n",
    "        hour, minute, second = map(int, time_str.split(':'))\n",
    "        \n",
    "        new_time = hour*3600 + minute*60 + second\n",
    "        if i == 0:\n",
    "            original = new_time\n",
    "        total_time = new_time - original\n",
    "    \n",
    "        time = np.append(time, total_time)\n",
    "        \n",
    "        ce_data = transient[0,0][0][i][2][0][0][3][0]\n",
    "        ce_data_list.append(ce_data)\n",
    "    \n",
    "    ce_data_array = np.array(ce_data_list) \n",
    "    \n",
    "    ce_sampling_data = [()]\n",
    "    for i in range(len(ce_data_array)):\n",
    "        if time[i]>=2000 and np.min(ce_data_array[i])<=4.0:\n",
    "            break\n",
    "        ce_sampling_data = np.append(ce_sampling_data, np.average(ce_data_array[i]))\n",
    "    \n",
    "    def calculate_weighted_average(x, t, span=15):\n",
    "        theta = 2 / (span + 1)\n",
    "        numerator = 0\n",
    "        denominator = 0\n",
    "    \n",
    "        for i in range(t + 1):\n",
    "            weight = (1 - theta) ** (t - i)\n",
    "            numerator += weight * x[i]\n",
    "            denominator += weight\n",
    "    \n",
    "        yt = numerator / denominator\n",
    "        return yt\n",
    "    \n",
    "    span = 15\n",
    "    ce_window_smooth[j] = np.zeros(len(ce_sampling_data))\n",
    "    for t in range(len(ce_sampling_data)):\n",
    "        ce_window_smooth[j][t] = calculate_weighted_average(ce_sampling_data, t, span)\n",
    "\n",
    "print(\"Done\")"
   ]
  },
  {
   "cell_type": "code",
   "execution_count": 5,
   "id": "d0b664ef-9b3b-4c36-aa91-f1ba0584ead7",
   "metadata": {},
   "outputs": [
    {
     "ename": "RuntimeError",
     "evalue": "Expected 2D (unbatched) or 3D (batched) input to conv1d, but got input of size: [2, 1, 0, 150]",
     "output_type": "error",
     "traceback": [
      "\u001b[1;31m---------------------------------------------------------------------------\u001b[0m",
      "\u001b[1;31mRuntimeError\u001b[0m                              Traceback (most recent call last)",
      "Cell \u001b[1;32mIn[5], line 82\u001b[0m\n\u001b[0;32m     80\u001b[0m \u001b[38;5;28;01mfor\u001b[39;00m inputs, targets \u001b[38;5;129;01min\u001b[39;00m dataloader:\n\u001b[0;32m     81\u001b[0m     optimizer\u001b[38;5;241m.\u001b[39mzero_grad()\n\u001b[1;32m---> 82\u001b[0m     outputs \u001b[38;5;241m=\u001b[39m model(inputs)\n\u001b[0;32m     83\u001b[0m     loss \u001b[38;5;241m=\u001b[39m criterion(outputs, targets\u001b[38;5;241m.\u001b[39mview(outputs\u001b[38;5;241m.\u001b[39mshape))\n\u001b[0;32m     84\u001b[0m     loss\u001b[38;5;241m.\u001b[39mbackward()\n",
      "File \u001b[1;32m~\\anaconda3\\envs\\scsqr_iitkgp\\Lib\\site-packages\\torch\\nn\\modules\\module.py:1532\u001b[0m, in \u001b[0;36mModule._wrapped_call_impl\u001b[1;34m(self, *args, **kwargs)\u001b[0m\n\u001b[0;32m   1530\u001b[0m     \u001b[38;5;28;01mreturn\u001b[39;00m \u001b[38;5;28mself\u001b[39m\u001b[38;5;241m.\u001b[39m_compiled_call_impl(\u001b[38;5;241m*\u001b[39margs, \u001b[38;5;241m*\u001b[39m\u001b[38;5;241m*\u001b[39mkwargs)  \u001b[38;5;66;03m# type: ignore[misc]\u001b[39;00m\n\u001b[0;32m   1531\u001b[0m \u001b[38;5;28;01melse\u001b[39;00m:\n\u001b[1;32m-> 1532\u001b[0m     \u001b[38;5;28;01mreturn\u001b[39;00m \u001b[38;5;28mself\u001b[39m\u001b[38;5;241m.\u001b[39m_call_impl(\u001b[38;5;241m*\u001b[39margs, \u001b[38;5;241m*\u001b[39m\u001b[38;5;241m*\u001b[39mkwargs)\n",
      "File \u001b[1;32m~\\anaconda3\\envs\\scsqr_iitkgp\\Lib\\site-packages\\torch\\nn\\modules\\module.py:1541\u001b[0m, in \u001b[0;36mModule._call_impl\u001b[1;34m(self, *args, **kwargs)\u001b[0m\n\u001b[0;32m   1536\u001b[0m \u001b[38;5;66;03m# If we don't have any hooks, we want to skip the rest of the logic in\u001b[39;00m\n\u001b[0;32m   1537\u001b[0m \u001b[38;5;66;03m# this function, and just call forward.\u001b[39;00m\n\u001b[0;32m   1538\u001b[0m \u001b[38;5;28;01mif\u001b[39;00m \u001b[38;5;129;01mnot\u001b[39;00m (\u001b[38;5;28mself\u001b[39m\u001b[38;5;241m.\u001b[39m_backward_hooks \u001b[38;5;129;01mor\u001b[39;00m \u001b[38;5;28mself\u001b[39m\u001b[38;5;241m.\u001b[39m_backward_pre_hooks \u001b[38;5;129;01mor\u001b[39;00m \u001b[38;5;28mself\u001b[39m\u001b[38;5;241m.\u001b[39m_forward_hooks \u001b[38;5;129;01mor\u001b[39;00m \u001b[38;5;28mself\u001b[39m\u001b[38;5;241m.\u001b[39m_forward_pre_hooks\n\u001b[0;32m   1539\u001b[0m         \u001b[38;5;129;01mor\u001b[39;00m _global_backward_pre_hooks \u001b[38;5;129;01mor\u001b[39;00m _global_backward_hooks\n\u001b[0;32m   1540\u001b[0m         \u001b[38;5;129;01mor\u001b[39;00m _global_forward_hooks \u001b[38;5;129;01mor\u001b[39;00m _global_forward_pre_hooks):\n\u001b[1;32m-> 1541\u001b[0m     \u001b[38;5;28;01mreturn\u001b[39;00m forward_call(\u001b[38;5;241m*\u001b[39margs, \u001b[38;5;241m*\u001b[39m\u001b[38;5;241m*\u001b[39mkwargs)\n\u001b[0;32m   1543\u001b[0m \u001b[38;5;28;01mtry\u001b[39;00m:\n\u001b[0;32m   1544\u001b[0m     result \u001b[38;5;241m=\u001b[39m \u001b[38;5;28;01mNone\u001b[39;00m\n",
      "Cell \u001b[1;32mIn[5], line 63\u001b[0m, in \u001b[0;36mTimeSeriesCNN.forward\u001b[1;34m(self, x)\u001b[0m\n\u001b[0;32m     62\u001b[0m \u001b[38;5;28;01mdef\u001b[39;00m \u001b[38;5;21mforward\u001b[39m(\u001b[38;5;28mself\u001b[39m, x):\n\u001b[1;32m---> 63\u001b[0m     x \u001b[38;5;241m=\u001b[39m \u001b[38;5;28mself\u001b[39m\u001b[38;5;241m.\u001b[39mpool(torch\u001b[38;5;241m.\u001b[39mrelu(\u001b[38;5;28mself\u001b[39m\u001b[38;5;241m.\u001b[39mconv1(x)))\n\u001b[0;32m     64\u001b[0m     x \u001b[38;5;241m=\u001b[39m \u001b[38;5;28mself\u001b[39m\u001b[38;5;241m.\u001b[39mpool(torch\u001b[38;5;241m.\u001b[39mrelu(\u001b[38;5;28mself\u001b[39m\u001b[38;5;241m.\u001b[39mconv2(x)))\n\u001b[0;32m     65\u001b[0m     x \u001b[38;5;241m=\u001b[39m x\u001b[38;5;241m.\u001b[39mview(x\u001b[38;5;241m.\u001b[39msize(\u001b[38;5;241m0\u001b[39m), \u001b[38;5;241m-\u001b[39m\u001b[38;5;241m1\u001b[39m)  \u001b[38;5;66;03m# Flatten\u001b[39;00m\n",
      "File \u001b[1;32m~\\anaconda3\\envs\\scsqr_iitkgp\\Lib\\site-packages\\torch\\nn\\modules\\module.py:1532\u001b[0m, in \u001b[0;36mModule._wrapped_call_impl\u001b[1;34m(self, *args, **kwargs)\u001b[0m\n\u001b[0;32m   1530\u001b[0m     \u001b[38;5;28;01mreturn\u001b[39;00m \u001b[38;5;28mself\u001b[39m\u001b[38;5;241m.\u001b[39m_compiled_call_impl(\u001b[38;5;241m*\u001b[39margs, \u001b[38;5;241m*\u001b[39m\u001b[38;5;241m*\u001b[39mkwargs)  \u001b[38;5;66;03m# type: ignore[misc]\u001b[39;00m\n\u001b[0;32m   1531\u001b[0m \u001b[38;5;28;01melse\u001b[39;00m:\n\u001b[1;32m-> 1532\u001b[0m     \u001b[38;5;28;01mreturn\u001b[39;00m \u001b[38;5;28mself\u001b[39m\u001b[38;5;241m.\u001b[39m_call_impl(\u001b[38;5;241m*\u001b[39margs, \u001b[38;5;241m*\u001b[39m\u001b[38;5;241m*\u001b[39mkwargs)\n",
      "File \u001b[1;32m~\\anaconda3\\envs\\scsqr_iitkgp\\Lib\\site-packages\\torch\\nn\\modules\\module.py:1541\u001b[0m, in \u001b[0;36mModule._call_impl\u001b[1;34m(self, *args, **kwargs)\u001b[0m\n\u001b[0;32m   1536\u001b[0m \u001b[38;5;66;03m# If we don't have any hooks, we want to skip the rest of the logic in\u001b[39;00m\n\u001b[0;32m   1537\u001b[0m \u001b[38;5;66;03m# this function, and just call forward.\u001b[39;00m\n\u001b[0;32m   1538\u001b[0m \u001b[38;5;28;01mif\u001b[39;00m \u001b[38;5;129;01mnot\u001b[39;00m (\u001b[38;5;28mself\u001b[39m\u001b[38;5;241m.\u001b[39m_backward_hooks \u001b[38;5;129;01mor\u001b[39;00m \u001b[38;5;28mself\u001b[39m\u001b[38;5;241m.\u001b[39m_backward_pre_hooks \u001b[38;5;129;01mor\u001b[39;00m \u001b[38;5;28mself\u001b[39m\u001b[38;5;241m.\u001b[39m_forward_hooks \u001b[38;5;129;01mor\u001b[39;00m \u001b[38;5;28mself\u001b[39m\u001b[38;5;241m.\u001b[39m_forward_pre_hooks\n\u001b[0;32m   1539\u001b[0m         \u001b[38;5;129;01mor\u001b[39;00m _global_backward_pre_hooks \u001b[38;5;129;01mor\u001b[39;00m _global_backward_hooks\n\u001b[0;32m   1540\u001b[0m         \u001b[38;5;129;01mor\u001b[39;00m _global_forward_hooks \u001b[38;5;129;01mor\u001b[39;00m _global_forward_pre_hooks):\n\u001b[1;32m-> 1541\u001b[0m     \u001b[38;5;28;01mreturn\u001b[39;00m forward_call(\u001b[38;5;241m*\u001b[39margs, \u001b[38;5;241m*\u001b[39m\u001b[38;5;241m*\u001b[39mkwargs)\n\u001b[0;32m   1543\u001b[0m \u001b[38;5;28;01mtry\u001b[39;00m:\n\u001b[0;32m   1544\u001b[0m     result \u001b[38;5;241m=\u001b[39m \u001b[38;5;28;01mNone\u001b[39;00m\n",
      "File \u001b[1;32m~\\anaconda3\\envs\\scsqr_iitkgp\\Lib\\site-packages\\torch\\nn\\modules\\conv.py:310\u001b[0m, in \u001b[0;36mConv1d.forward\u001b[1;34m(self, input)\u001b[0m\n\u001b[0;32m    309\u001b[0m \u001b[38;5;28;01mdef\u001b[39;00m \u001b[38;5;21mforward\u001b[39m(\u001b[38;5;28mself\u001b[39m, \u001b[38;5;28minput\u001b[39m: Tensor) \u001b[38;5;241m-\u001b[39m\u001b[38;5;241m>\u001b[39m Tensor:\n\u001b[1;32m--> 310\u001b[0m     \u001b[38;5;28;01mreturn\u001b[39;00m \u001b[38;5;28mself\u001b[39m\u001b[38;5;241m.\u001b[39m_conv_forward(\u001b[38;5;28minput\u001b[39m, \u001b[38;5;28mself\u001b[39m\u001b[38;5;241m.\u001b[39mweight, \u001b[38;5;28mself\u001b[39m\u001b[38;5;241m.\u001b[39mbias)\n",
      "File \u001b[1;32m~\\anaconda3\\envs\\scsqr_iitkgp\\Lib\\site-packages\\torch\\nn\\modules\\conv.py:306\u001b[0m, in \u001b[0;36mConv1d._conv_forward\u001b[1;34m(self, input, weight, bias)\u001b[0m\n\u001b[0;32m    302\u001b[0m \u001b[38;5;28;01mif\u001b[39;00m \u001b[38;5;28mself\u001b[39m\u001b[38;5;241m.\u001b[39mpadding_mode \u001b[38;5;241m!=\u001b[39m \u001b[38;5;124m'\u001b[39m\u001b[38;5;124mzeros\u001b[39m\u001b[38;5;124m'\u001b[39m:\n\u001b[0;32m    303\u001b[0m     \u001b[38;5;28;01mreturn\u001b[39;00m F\u001b[38;5;241m.\u001b[39mconv1d(F\u001b[38;5;241m.\u001b[39mpad(\u001b[38;5;28minput\u001b[39m, \u001b[38;5;28mself\u001b[39m\u001b[38;5;241m.\u001b[39m_reversed_padding_repeated_twice, mode\u001b[38;5;241m=\u001b[39m\u001b[38;5;28mself\u001b[39m\u001b[38;5;241m.\u001b[39mpadding_mode),\n\u001b[0;32m    304\u001b[0m                     weight, bias, \u001b[38;5;28mself\u001b[39m\u001b[38;5;241m.\u001b[39mstride,\n\u001b[0;32m    305\u001b[0m                     _single(\u001b[38;5;241m0\u001b[39m), \u001b[38;5;28mself\u001b[39m\u001b[38;5;241m.\u001b[39mdilation, \u001b[38;5;28mself\u001b[39m\u001b[38;5;241m.\u001b[39mgroups)\n\u001b[1;32m--> 306\u001b[0m \u001b[38;5;28;01mreturn\u001b[39;00m F\u001b[38;5;241m.\u001b[39mconv1d(\u001b[38;5;28minput\u001b[39m, weight, bias, \u001b[38;5;28mself\u001b[39m\u001b[38;5;241m.\u001b[39mstride,\n\u001b[0;32m    307\u001b[0m                 \u001b[38;5;28mself\u001b[39m\u001b[38;5;241m.\u001b[39mpadding, \u001b[38;5;28mself\u001b[39m\u001b[38;5;241m.\u001b[39mdilation, \u001b[38;5;28mself\u001b[39m\u001b[38;5;241m.\u001b[39mgroups)\n",
      "\u001b[1;31mRuntimeError\u001b[0m: Expected 2D (unbatched) or 3D (batched) input to conv1d, but got input of size: [2, 1, 0, 150]"
     ]
    }
   ],
   "source": [
    "import torch\n",
    "import torch.nn as nn\n",
    "import torch.optim as optim\n",
    "from sklearn.preprocessing import MinMaxScaler\n",
    "import numpy as np\n",
    "from torch.utils.data import Dataset, DataLoader\n",
    "import matplotlib.pyplot as plt\n",
    "\n",
    "# Example: Non-uniform length data arrays\n",
    "data = [\n",
    "    np.sin(np.linspace(0, 50, 150)),  # 150 elements\n",
    "    np.cos(np.linspace(0, 50, 200)),  # 200 elements\n",
    "    np.sin(np.linspace(0, 25, 180)),  # 180 elements\n",
    "    np.cos(np.linspace(0, 25, 220))   # 220 elements\n",
    "]\n",
    "\n",
    "# Find the minimum length\n",
    "min_length = min(len(row) for row in data)\n",
    "\n",
    "# Truncate arrays to the minimum length\n",
    "data_truncated = np.array([row[:min_length] for row in data])\n",
    "\n",
    "# Normalize each row\n",
    "scaler = MinMaxScaler(feature_range=(0, 1))\n",
    "data_scaled = np.array([scaler.fit_transform(row.reshape(-1, 1)).flatten() for row in data_truncated])\n",
    "\n",
    "# Split into training (last 3 rows) and testing (first row)\n",
    "train_data = torch.tensor(data_scaled[1:], dtype=torch.float32)  # Rows 1 to 3\n",
    "test_data = torch.tensor(data_scaled[0], dtype=torch.float32)    # Row 0\n",
    "\n",
    "# Reshape train and test data for CNN\n",
    "train_data = train_data.unsqueeze(1)  # Add channel dimension (N, C, L)\n",
    "test_data = test_data.unsqueeze(0).unsqueeze(0)  # Add batch and channel dims (1, 1, L)\n",
    "\n",
    "# Define custom dataset\n",
    "class TimeSeriesDataset(Dataset):\n",
    "    def __init__(self, data):\n",
    "        self.data = data\n",
    "\n",
    "    def __len__(self):\n",
    "        return len(self.data)\n",
    "\n",
    "    def __getitem__(self, idx):\n",
    "        x = self.data[idx, :-1]  # Use all except last value as input\n",
    "        y = self.data[idx, 1:]   # Use all except first value as target\n",
    "        return x.unsqueeze(0), y.unsqueeze(0)  # Add channel dimension\n",
    "\n",
    "# Create dataset and dataloader\n",
    "dataset = TimeSeriesDataset(train_data)\n",
    "dataloader = DataLoader(dataset, batch_size=2, shuffle=True)\n",
    "\n",
    "# Define CNN model\n",
    "class TimeSeriesCNN(nn.Module):\n",
    "    def __init__(self):\n",
    "        super(TimeSeriesCNN, self).__init__()\n",
    "        self.conv1 = nn.Conv1d(1, 16, kernel_size=3, stride=1, padding=1)\n",
    "        self.pool = nn.MaxPool1d(kernel_size=2, stride=2)\n",
    "        self.conv2 = nn.Conv1d(16, 32, kernel_size=3, stride=1, padding=1)\n",
    "        self.fc1 = nn.Linear(32 * (min_length // 2 // 2), 50)\n",
    "        self.fc2 = nn.Linear(50, min_length - 1)\n",
    "\n",
    "    def forward(self, x):\n",
    "        x = self.pool(torch.relu(self.conv1(x)))\n",
    "        x = self.pool(torch.relu(self.conv2(x)))\n",
    "        x = x.view(x.size(0), -1)  # Flatten\n",
    "        x = torch.relu(self.fc1(x))\n",
    "        x = self.fc2(x)\n",
    "        return x\n",
    "\n",
    "# Initialize model, loss function, and optimizer\n",
    "model = TimeSeriesCNN()\n",
    "criterion = nn.MSELoss()\n",
    "optimizer = optim.Adam(model.parameters(), lr=0.001)\n",
    "\n",
    "# Training loop\n",
    "epochs = 20\n",
    "for epoch in range(epochs):\n",
    "    model.train()\n",
    "    running_loss = 0.0\n",
    "    for inputs, targets in dataloader:\n",
    "        optimizer.zero_grad()\n",
    "        outputs = model(inputs)\n",
    "        loss = criterion(outputs, targets.view(outputs.shape))\n",
    "        loss.backward()\n",
    "        optimizer.step()\n",
    "        running_loss += loss.item()\n",
    "\n",
    "    print(f\"Epoch {epoch+1}/{epochs}, Loss: {running_loss/len(dataloader):.4f}\")\n",
    "\n",
    "# Test the model\n",
    "model.eval()\n",
    "with torch.no_grad():\n",
    "    predictions = model(test_data)\n",
    "    predictions = predictions.squeeze(0).numpy()\n",
    "\n",
    "# Plot results\n",
    "plt.figure(figsize=(10, 5))\n",
    "plt.plot(data_scaled[0][1:], label=\"Actual\")\n",
    "plt.plot(predictions, label=\"Predicted\")\n",
    "plt.legend()\n",
    "plt.show()\n"
   ]
  },
  {
   "cell_type": "code",
   "execution_count": 43,
   "id": "e3eff953-f002-464a-8f9c-ca138d3510bb",
   "metadata": {},
   "outputs": [
    {
     "name": "stdout",
     "output_type": "stream",
     "text": [
      "Done\n"
     ]
    }
   ],
   "source": [
    "import torch\n",
    "import torch.nn as nn\n",
    "import torch.optim as optim\n",
    "import numpy as np\n",
    "\n",
    "# Define LSTM model\n",
    "class LSTMModel(nn.Module):\n",
    "    def __init__(self, input_size=1, hidden_size=50, output_size=1):\n",
    "        super(LSTMModel, self).__init__()\n",
    "        self.lstm = nn.LSTM(input_size, hidden_size, batch_first=True)\n",
    "        self.fc = nn.Linear(hidden_size, output_size)\n",
    "\n",
    "    def forward(self, x):\n",
    "        out, _ = self.lstm(x)  # LSTM returns output and hidden state\n",
    "        out = self.fc(out[:, -1, :])  # Use the last time step's output\n",
    "        return out\n",
    "\n",
    "# Instantiate model, define loss function and optimizer\n",
    "model = LSTMModel()\n",
    "criterion = nn.MSELoss()\n",
    "optimizer = torch.optim.Adam(model.parameters(), lr=0.001)\n",
    "\n",
    "for q in range(len(mat_data_set)):\n",
    "    if q in [1, 2, 3]:\n",
    "        data = ce_window_smooth[q]\n",
    "        \n",
    "        # Prepare sliding window dataset\n",
    "        window_size = 1\n",
    "        inputs = []\n",
    "        labels = []\n",
    "        for i in range(len(data) - window_size+1):\n",
    "            inputs.append(data[i:i + window_size])\n",
    "            labels.append(data[i + window_size-1])\n",
    "        \n",
    "        inputs = torch.tensor(np.array(inputs), dtype=torch.float32)  # Convert numpy array to tensor\n",
    "        labels = torch.tensor(np.array(labels), dtype=torch.float32).unsqueeze(1)  # Convert numpy array to tensor\n",
    "        \n",
    "        # Reshape inputs to match RNN input format\n",
    "        inputs = inputs.unsqueeze(1)  # Shape: [93, 1, 10] (batch_size, seq_len, input_size)\n",
    "\n",
    "        # Train the model\n",
    "        epochs = 5000\n",
    "        for epoch in range(epochs):\n",
    "            model.train()\n",
    "            optimizer.zero_grad()\n",
    "            output = model(inputs)\n",
    "            loss = criterion(output, labels)\n",
    "            loss.backward()\n",
    "            optimizer.step()\n",
    "            #print(f\"Epoch {epoch+1}/{epochs}, Loss: {loss.item():.4f}\")\n",
    "\n",
    "test_data_index=0\n",
    "data = ce_window_smooth[0]\n",
    "        \n",
    "# Prepare sliding window dataset\n",
    "window_size = 1\n",
    "inputs = []\n",
    "labels = []\n",
    "for i in range(len(data) - window_size+1):\n",
    "    inputs.append(data[i:i + window_size])\n",
    "    labels.append(data[i + window_size-1])\n",
    "\n",
    "inputs = torch.tensor(np.array(inputs), dtype=torch.float32)  # Convert numpy array to tensor\n",
    "labels = torch.tensor(np.array(labels), dtype=torch.float32).unsqueeze(1)  # Convert numpy array to tensor\n",
    "\n",
    "# Reshape inputs to match RNN input format\n",
    "inputs = inputs.unsqueeze(1)  # Shape: [93, 1, 10] (batch_size, seq_len, input_size)\n",
    "\n",
    "# Evaluate the model\n",
    "model.eval()\n",
    "with torch.no_grad():\n",
    "    output_array = model(inputs).squeeze().numpy()\n",
    "\n",
    "    #print(\"Final outputs:\", output_array[q])\n",
    "print(\"Done\")"
   ]
  },
  {
   "cell_type": "code",
   "execution_count": 44,
   "id": "2be561d8-e5cc-4d78-a6cb-f801bf42a89f",
   "metadata": {},
   "outputs": [
    {
     "data": {
      "image/png": "[encoded data removed]",
      "text/plain": [
       "<Figure size 640x480 with 1 Axes>"
      ]
     },
     "metadata": {},
     "output_type": "display_data"
    }
   ],
   "source": [
    "# Plot results\n",
    "plt.plot(output_array, label='Predicted')\n",
    "plt.plot(ce_window_smooth[0], label='Actual')\n",
    "plt.legend()\n",
    "plt.show()"
   ]
  },
  {
   "cell_type": "code",
   "execution_count": 45,
   "id": "05f2db2e-4a22-497e-9e51-9805e42197db",
   "metadata": {},
   "outputs": [
    {
     "name": "stdout",
     "output_type": "stream",
     "text": [
      "Done\n"
     ]
    }
   ],
   "source": [
    "import numpy as np\n",
    "\n",
    "# Function to calculate MSE\n",
    "def mean_squared_error(y_true, y_pred):\n",
    "    return np.mean((y_true - y_pred) ** 2)\n",
    "\n",
    "# Function to calculate R² (Coefficient of Determination)\n",
    "def r2_score(y_true, y_pred):\n",
    "    ss_res = np.sum((y_true - y_pred) ** 2)  # Residual sum of squares\n",
    "    ss_tot = np.sum((y_true - np.mean(y_true)) ** 2)  # Total sum of squares\n",
    "    return 1 - (ss_res / ss_tot)\n",
    "\n",
    "# Function to calculate MAE\n",
    "def mean_absolute_error(y_true, y_pred):\n",
    "    return np.mean(np.abs(y_true - y_pred))\n",
    "\n",
    "print(\"Done\")"
   ]
  },
  {
   "cell_type": "code",
   "execution_count": 46,
   "id": "7e318b75-e480-4dd8-bac9-738e68bc2eb3",
   "metadata": {},
   "outputs": [
    {
     "name": "stdout",
     "output_type": "stream",
     "text": [
      "9.260474057085168e-06\n",
      "99.99941532225962\n",
      "0.0019554989396350165\n"
     ]
    }
   ],
   "source": [
    "y_true = ce_window_smooth[0]\n",
    "\n",
    "y_pred = output_array\n",
    "# Calculate MSE\n",
    "mse = mean_squared_error(y_true, y_pred)\n",
    "\n",
    "# Calculate R²\n",
    "r2 = r2_score(y_true, y_pred)*100\n",
    "\n",
    "# Calculate MAE\n",
    "mae = mean_absolute_error(y_true, y_pred)\n",
    "\n",
    "print(mse)\n",
    "print(r2)\n",
    "print(mae)"
   ]
  },
  {
   "cell_type": "code",
   "execution_count": null,
   "id": "6120f88c-d064-4b73-8fc2-cc234f004ed4",
   "metadata": {},
   "outputs": [],
   "source": []
  },
  {
   "cell_type": "code",
   "execution_count": 17,
   "id": "7978654c-aff8-41ca-9c6f-225792ec2193",
   "metadata": {},
   "outputs": [
    {
     "name": "stdout",
     "output_type": "stream",
     "text": [
      "103\n",
      "106\n",
      "96\n",
      "91\n"
     ]
    }
   ],
   "source": [
    "for q in range(len(mat_data_set)):\n",
    "    len_ori = len(ce_window_smooth[q])\n",
    "    print(len_ori)"
   ]
  },
  {
   "cell_type": "code",
   "execution_count": 18,
   "id": "30f65182-83ed-4852-b67c-4ba5c4e4a29a",
   "metadata": {},
   "outputs": [],
   "source": [
    "ce_window_smooth_new = [None]*len(mat_data_set)\n",
    "len_larger = len(ce_window_smooth[3])\n",
    "for q in range(len(mat_data_set)):\n",
    "    ce_window_smooth_new[q] = ce_window_smooth[q][0:len_larger]\n",
    "    #print(len(output_array_new[q])-len(ce_window_smooth[q])"
   ]
  },
  {
   "cell_type": "code",
   "execution_count": 19,
   "id": "e912783d-3358-4ae3-9838-ad28939d9da5",
   "metadata": {},
   "outputs": [
    {
     "name": "stdout",
     "output_type": "stream",
     "text": [
      "91\n",
      "91\n",
      "91\n",
      "91\n"
     ]
    }
   ],
   "source": [
    "for q in range(len(mat_data_set)):\n",
    "    len_ori = len(ce_window_smooth_new[q])\n",
    "    print(len_ori)"
   ]
  },
  {
   "cell_type": "code",
   "execution_count": null,
   "id": "3ef127fa-3466-45d2-8fc7-e94fbbab79d5",
   "metadata": {},
   "outputs": [],
   "source": []
  },
  {
   "cell_type": "code",
   "execution_count": 78,
   "id": "cdc692dc-f4f9-46b4-90d7-2dc591f71d7a",
   "metadata": {},
   "outputs": [
    {
     "name": "stderr",
     "output_type": "stream",
     "text": [
      "C:\\Users\\JASH\\anaconda3\\envs\\scsqr_iitkgp\\Lib\\site-packages\\torch\\nn\\modules\\loss.py:535: UserWarning: Using a target size (torch.Size([1])) that is different to the input size (torch.Size([3, 1])). This will likely lead to incorrect results due to broadcasting. Please ensure they have the same size.\n",
      "  return F.mse_loss(input, target, reduction=self.reduction)\n"
     ]
    },
    {
     "name": "stdout",
     "output_type": "stream",
     "text": [
      "Epoch [10/100], Loss: 0.1147\n",
      "Epoch [20/100], Loss: 0.0620\n",
      "Epoch [30/100], Loss: 0.0609\n",
      "Epoch [40/100], Loss: 0.0641\n",
      "Epoch [50/100], Loss: 0.0661\n",
      "Epoch [60/100], Loss: 0.0672\n",
      "Epoch [70/100], Loss: 0.0679\n",
      "Epoch [80/100], Loss: 0.0686\n",
      "Epoch [90/100], Loss: 0.0693\n",
      "Epoch [100/100], Loss: 0.0700\n",
      "Test output: [1.485935926437378, 1.5557907819747925, 1.597910761833191, 1.615975260734558, 1.6328572034835815, 1.6499271392822266, 1.657095193862915, 1.6622716188430786, 1.7624295949935913, 1.8490461111068726, 1.9213523864746094, 1.9781938791275024, 2.0209968090057373, 2.062042236328125, 2.0951085090637207, 2.1201109886169434, 2.1450650691986084, 2.242631673812866, 2.330331802368164, 2.4074254035949707, 2.4741458892822266, 2.531045436859131, 2.580573081970215, 2.622309684753418, 2.6556246280670166, 2.6876237392425537, 2.7133712768554688, 2.7376365661621094, 2.8333630561828613, 2.9195361137390137, 2.9968209266662598, 3.1327602863311768, 3.2574105262756348, 3.3658559322357178, 3.460059881210327, 3.541621685028076, 3.6161651611328125, 3.682342529296875, 3.8134946823120117, 3.9276983737945557, 4.026311874389648, 4.111368179321289, 4.183087348937988, 4.252269744873047, 4.3148193359375, 4.369712829589844, 4.417737007141113, 4.461292743682861, 4.497563362121582, 4.530574798583984, 4.558807373046875, 4.653811931610107, 4.736429214477539, 4.812708377838135, 4.877215385437012, 4.939887046813965, 4.98828125, 5.033797264099121, 5.072431564331055, 5.10499382019043, 5.137704372406006, 5.16593074798584, 5.19072151184082, 5.211288928985596, 5.229489803314209, 5.245181083679199, 5.25966215133667, 5.273838520050049, 5.288320541381836, 5.367088317871094, 5.439984321594238, 5.497053146362305, 5.549021244049072, 5.593326568603516, 5.631284713745117, 5.666909217834473, 5.697337627410889, 5.719884395599365, 5.742913246154785, 5.763091087341309, 5.779867172241211, 5.799600601196289, 5.817409515380859, 5.830596923828125, 5.839715003967285, 5.853456497192383, 5.863101959228516, 5.866252899169922, 5.873046875, 5.878698348999023, 5.884453296661377]\n"
     ]
    }
   ],
   "source": [
    "import torch\n",
    "import torch.nn as nn\n",
    "import torch.optim as optim\n",
    "import numpy as np\n",
    "from sklearn.model_selection import train_test_split\n",
    "\n",
    "# Example input data (4 rows of 91 elements each)\n",
    "# Replace this with your actual data\n",
    "data = ce_window_smooth_new  # 4x91 matrix for example\n",
    "\n",
    "# Split into training and testing data\n",
    "train_data = data[1:4]  # First three rows for training\n",
    "test_data = data[0]  # Fourth row for testing\n",
    "\n",
    "# Convert to PyTorch tensors\n",
    "train_data = torch.tensor(train_data, dtype=torch.float32)\n",
    "test_data = torch.tensor(test_data, dtype=torch.float32)\n",
    "\n",
    "# Define a simple 1D CNN model\n",
    "class CNN1D(nn.Module):\n",
    "    def __init__(self):\n",
    "        super(CNN1D, self).__init__()\n",
    "        # Define the layers\n",
    "        self.conv1 = nn.Conv1d(in_channels=1, out_channels=16, kernel_size=3, padding=1)  # Convolutional Layer 1\n",
    "        self.relu = nn.ReLU()  # ReLU activation\n",
    "        self.fc1 = nn.Linear(16, 1)  # Fully connected layer (16 channels, output size after convolution)\n",
    "\n",
    "    def forward(self, x):\n",
    "        x = x.unsqueeze(1)  # Add channel dimension (1 channel in this case)\n",
    "        x = self.conv1(x)  # Convolution operation\n",
    "        x = self.relu(x)  # Apply ReLU activation\n",
    "        x = x.view(x.size(0), -1)  # Flatten the output\n",
    "        x = self.fc1(x)  # Fully connected layer\n",
    "        return x\n",
    "\n",
    "# Instantiate the model\n",
    "model = CNN1D()\n",
    "\n",
    "# Define loss and optimizer\n",
    "criterion = nn.MSELoss()  # Mean Squared Error for regression tasks\n",
    "optimizer = optim.Adam(model.parameters(), lr=0.001)\n",
    "\n",
    "# Training loop (element-wise training)\n",
    "num_epochs = 100\n",
    "for epoch in range(num_epochs):\n",
    "    for i in range(train_data.shape[1]):  # Iterate over each element in a row (columns)\n",
    "        input_data = train_data[:, i].unsqueeze(1)  # Select one element at a time from all rows (indexing all rows in the i-th column)\n",
    "        target = test_data[i]  # Target is the corresponding element from the test data (same index)\n",
    "\n",
    "        # Zero the gradients\n",
    "        optimizer.zero_grad()\n",
    "\n",
    "        # Forward pass\n",
    "        output = model(input_data)\n",
    "\n",
    "        # Calculate loss\n",
    "        loss = criterion(output, target.unsqueeze(0))\n",
    "\n",
    "        # Backward pass and optimization\n",
    "        loss.backward()\n",
    "        optimizer.step()\n",
    "\n",
    "    # Print the loss for the current epoch\n",
    "    if (epoch + 1) % 10 == 0:\n",
    "        print(f'Epoch [{epoch+1}/{num_epochs}], Loss: {loss.item():.4f}')\n",
    "\n",
    "# Test the model on the test data (element-wise)\n",
    "with torch.no_grad():\n",
    "    model.eval()  # Set the model to evaluation mode\n",
    "    test_output = []\n",
    "    for i in range(test_data.shape[0]):\n",
    "        test_input = test_data[i].unsqueeze(0)  # Input for testing (one element at a time)\n",
    "        output = model(test_input.unsqueeze(0))\n",
    "        test_output.append(output.item())\n",
    "    print(f'Test output: {test_output}')\n"
   ]
  },
  {
   "cell_type": "code",
   "execution_count": 79,
   "id": "d789d122-b6ea-4648-b2e4-4f4fa0869ddd",
   "metadata": {},
   "outputs": [
    {
     "data": {
      "image/png": "[encoded data removed]",
      "text/plain": [
       "<Figure size 640x480 with 1 Axes>"
      ]
     },
     "metadata": {},
     "output_type": "display_data"
    }
   ],
   "source": [
    "# Plot results\n",
    "plt.plot(test_output, label='Predicted')\n",
    "plt.plot(ce_window_smooth_new[0], label='Actual')\n",
    "plt.legend()\n",
    "plt.show()"
   ]
  },
  {
   "cell_type": "code",
   "execution_count": 80,
   "id": "da6dd8a7-9a2d-41da-932f-104a22c49877",
   "metadata": {},
   "outputs": [
    {
     "name": "stdout",
     "output_type": "stream",
     "text": [
      "0.07652652275497256\n",
      "94.88249994670014\n",
      "0.2550957571938719\n"
     ]
    }
   ],
   "source": [
    "y_true = ce_window_smooth_new[0]\n",
    "\n",
    "y_pred = test_output\n",
    "# Calculate MSE\n",
    "mse_cnn = mean_squared_error(y_true, y_pred)\n",
    "\n",
    "# Calculate R²\n",
    "r2_cnn = r2_score(y_true, y_pred)*100\n",
    "\n",
    "# Calculate MAE\n",
    "mae_cnn = mean_absolute_error(y_true, y_pred)\n",
    "\n",
    "print(mse_cnn)\n",
    "print(r2_cnn)\n",
    "print(mae_cnn)"
   ]
  },
  {
   "cell_type": "code",
   "execution_count": null,
   "id": "f96f262d-a1af-471c-b6ff-1fd42d7c38c8",
   "metadata": {},
   "outputs": [],
   "source": []
  }
 ],
 "metadata": {
  "kernelspec": {
   "display_name": "Python 3 (ipykernel)",
   "language": "python",
   "name": "python3"
  },
  "language_info": {
   "codemirror_mode": {
    "name": "ipython",
    "version": 3
   },
   "file_extension": ".py",
   "mimetype": "text/x-python",
   "name": "python",
   "nbconvert_exporter": "python",
   "pygments_lexer": "ipython3",
   "version": "3.11.11"
  }
 },
 "nbformat": 4,
 "nbformat_minor": 5
}
